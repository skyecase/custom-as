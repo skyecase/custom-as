{
  "cells": [
    {
      "cell_type": "markdown",
      "metadata": {},
      "source": [
        "## This is a sample notebook that we'll use to test the notebook mode in PyCharm and Visual Studio Code."
      ]
    },
    {
      "cell_type": "code",
      "execution_count": 1,
      "metadata": {},
      "source": [
        
        "import pandas as pd\n",
        "import world_bank_data as wb\n",
        "from IPython.display import display\n",
        "import ipywidgets as ipw\n",
        "import matplotlib\n",
        "import plotly.express as px\n",
        "pd.set_option('display.max_rows', 6)\n"
      ],
      "outputs": []
    },
    {
      "cell_type": "markdown",
      "metadata": {},
      "source": [
        "# Collect data and show a Pandas DataFrame"
        ]
    },
    {
      "cell_type": "code",
      "execution_count": 2,
      "metadata": {},
      "source": [
        "pop = wb.get_series('SP.POP.TOTL', country='WLD', simplify_index=True)\n",
        "df = pop.rename('Population').reset_index()\n",
        "df\n"
      ],
      "outputs": []
    },
    {
     "cell_type" : "markdown" ,
     "metadata" : {} , 
     "source" : [ "# Show a widget" ]
     ]
    {
      "cell_type": "code",
      "execution_count": 3,
      "metadata": {},
      "source": [
        
        "r = ipw.IntRangeSlider("\n,
        "    value=[1970, 2018],\n",
        "    min=1960,\n",
        "    max=2019,\n",
        "    step=1,\n",
        "    description='Year')\n",
        "r\n"
      ],
      "outputs": []
    },
    {
      "cell_type": "code",
      "execution_count" : 4 , 
      "metadata": {},
      "source": [
        
        "# Subset the data according to the widget\n",
        "sub = df.query(\"(Year>='{}') & (Year<='{}')\".format(*r.value))\n",
        "sub\n",
        
      ]
    },
    {
      "cell_type": "code",
      "execution_count": 5,
      "metadata": {},
      "source": [
        "# Matplotlib\n",
        "%matplotlib inline\n",
        "pop.plot(kind='area', title='World Population')\n"
      ],
      "outputs": []
    },
    {
      "cell_type": "code",
      "execution_count": 6,
      "metadata": {},
      "source": [
        "# Plotly plot\n",
        "px.area(sub, x='Year', y='Population', title='World Population')\n"
      ],
      "outputs": []
    },
    
    
  "metadata": {
    "kernelspec": {
      "display_name": "Python 3",
      "language": "python",
      "name": "python3"
    },
    "language_info": {
      "codemirror_mode": {
        "name": "ipython",
        "version": 3
      },
      "file_extension": ".py",
      "mimetype": "text/x-python",
      "name": "python",
      "nbconvert_exporter": "python",
      "pygments_lexer": "ipython3",
      "version": "3.7.0"
    }
  },
  "nbformat": 4,
  "nbformat_minor": 4
}
